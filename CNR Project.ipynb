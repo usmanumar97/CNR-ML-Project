{
 "cells": [
  {
   "cell_type": "code",
   "execution_count": 1,
   "id": "f57cd8d9",
   "metadata": {},
   "outputs": [],
   "source": [
    "import matplotlib.pyplot as plt\n",
    "import seaborn as sns\n",
    "import pandas as pd\n",
    "import numpy as np\n",
    "import warnings\n",
    "warnings.filterwarnings('ignore')\n",
    "\n",
    "df = pd.read_csv('Data.csv')"
   ]
  },
  {
   "cell_type": "markdown",
   "id": "85503a67",
   "metadata": {},
   "source": [
    "# 1. Loading data and preliminary analysis"
   ]
  },
  {
   "cell_type": "markdown",
   "id": "7062c0a4",
   "metadata": {},
   "source": [
    "### 1.1. Checking the target"
   ]
  },
  {
   "cell_type": "code",
   "execution_count": 2,
   "id": "079e198e",
   "metadata": {},
   "outputs": [],
   "source": [
    "X = df[['x1', 'x2', 'x3', 'x4', 'x5', 'x6', 'x7', 'x8']]\n",
    "y = df['y']"
   ]
  },
  {
   "cell_type": "code",
   "execution_count": 3,
   "id": "a38633a0",
   "metadata": {},
   "outputs": [
    {
     "data": {
      "text/plain": [
       "<bound method Series.info of 0      32.175299\n",
       "1       6.521285\n",
       "2       5.688139\n",
       "3       8.488786\n",
       "4      63.570984\n",
       "         ...    \n",
       "145     8.145065\n",
       "146    33.262930\n",
       "147     1.656207\n",
       "148     1.315763\n",
       "149     1.421749\n",
       "Name: y, Length: 150, dtype: float64>"
      ]
     },
     "execution_count": 3,
     "metadata": {},
     "output_type": "execute_result"
    }
   ],
   "source": [
    "y.info"
   ]
  },
  {
   "cell_type": "code",
   "execution_count": 4,
   "id": "f5da6bba",
   "metadata": {},
   "outputs": [
    {
     "data": {
      "text/plain": [
       "(150,)"
      ]
     },
     "execution_count": 4,
     "metadata": {},
     "output_type": "execute_result"
    }
   ],
   "source": [
    "y.shape"
   ]
  },
  {
   "cell_type": "code",
   "execution_count": 5,
   "id": "0fa5af65",
   "metadata": {},
   "outputs": [
    {
     "data": {
      "text/plain": [
       "<bound method NDFrame.describe of 0      32.175299\n",
       "1       6.521285\n",
       "2       5.688139\n",
       "3       8.488786\n",
       "4      63.570984\n",
       "         ...    \n",
       "145     8.145065\n",
       "146    33.262930\n",
       "147     1.656207\n",
       "148     1.315763\n",
       "149     1.421749\n",
       "Name: y, Length: 150, dtype: float64>"
      ]
     },
     "execution_count": 5,
     "metadata": {},
     "output_type": "execute_result"
    }
   ],
   "source": [
    "y.describe"
   ]
  },
  {
   "cell_type": "markdown",
   "id": "75f08962",
   "metadata": {},
   "source": [
    "###### The target variable Y is numerical because it contains numerical values that represent a measurable quantity, whereas nominal data consists of categories without any inherent order or numerical value."
   ]
  },
  {
   "cell_type": "markdown",
   "id": "7a5ced25",
   "metadata": {},
   "source": [
    "This dataset consists of 150 samples, each with 8 features (x1 to x8) and a target value (y). To choose between a regression or a classification task,  the nature of the target variable is considered.  The target variable 'y' is continuous, as it contains decimal values. Therefore, this dataset is suitable for a regression task, where you would try to predict the value of 'y' based on the values of the features x1 to x8. If the target variable were categorical or discrete (such as class labels), it would be suitable for a classification task."
   ]
  },
  {
   "cell_type": "markdown",
   "id": "72f950a9",
   "metadata": {},
   "source": [
    "### Frequecny Distribution of y"
   ]
  },
  {
   "cell_type": "code",
   "execution_count": 6,
   "id": "c2015b72",
   "metadata": {},
   "outputs": [
    {
     "data": {
      "image/png": "[encoded data removed]",
      "text/plain": [
       "<Figure size 400x300 with 1 Axes>"
      ]
     },
     "metadata": {},
     "output_type": "display_data"
    }
   ],
   "source": [
    "fig, ax = plt.subplots(figsize=(4, 3))\n",
    "\n",
    "sns.histplot(df['y'], kde=True, ax=ax)\n",
    "ax.set(title='Frequency Distribution of y')\n",
    "ax.set(xlabel=None)\n",
    "\n",
    "plt.show()"
   ]
  },
  {
   "cell_type": "markdown",
   "id": "e953ff11",
   "metadata": {},
   "source": [
    "The graph indicates that the distribution of 'y' is heavily right-skewed. This is consistent with the shape of the graph, which is skewed towards the right-hand side and the tail of the distribution also extending towards the right while the majority data points being clustered on the left."
   ]
  },
  {
   "cell_type": "markdown",
   "id": "27517471",
   "metadata": {},
   "source": [
    "### 1.2. Checking the features "
   ]
  },
  {
   "cell_type": "code",
   "execution_count": 7,
   "id": "46162070",
   "metadata": {},
   "outputs": [
    {
     "data": {
      "text/html": [
       "<div>\n",
       "<style scoped>\n",
       "    .dataframe tbody tr th:only-of-type {\n",
       "        vertical-align: middle;\n",
       "    }\n",
       "\n",
       "    .dataframe tbody tr th {\n",
       "        vertical-align: top;\n",
       "    }\n",
       "\n",
       "    .dataframe thead th {\n",
       "        text-align: right;\n",
       "    }\n",
       "</style>\n",
       "<table border=\"1\" class=\"dataframe\">\n",
       "  <thead>\n",
       "    <tr style=\"text-align: right;\">\n",
       "      <th></th>\n",
       "      <th>x1</th>\n",
       "      <th>x2</th>\n",
       "      <th>x3</th>\n",
       "      <th>x4</th>\n",
       "      <th>x5</th>\n",
       "      <th>x6</th>\n",
       "      <th>x7</th>\n",
       "      <th>x8</th>\n",
       "    </tr>\n",
       "  </thead>\n",
       "  <tbody>\n",
       "    <tr>\n",
       "      <th>0</th>\n",
       "      <td>0.592109</td>\n",
       "      <td>0.545496</td>\n",
       "      <td>0.199054</td>\n",
       "      <td>2.370339</td>\n",
       "      <td>1.032510</td>\n",
       "      <td>1.137605</td>\n",
       "      <td>1.199802</td>\n",
       "      <td>-0.833456</td>\n",
       "    </tr>\n",
       "    <tr>\n",
       "      <th>1</th>\n",
       "      <td>0.911316</td>\n",
       "      <td>1.260952</td>\n",
       "      <td>0.446375</td>\n",
       "      <td>1.564526</td>\n",
       "      <td>0.820080</td>\n",
       "      <td>2.172268</td>\n",
       "      <td>1.441165</td>\n",
       "      <td>-0.373705</td>\n",
       "    </tr>\n",
       "    <tr>\n",
       "      <th>2</th>\n",
       "      <td>0.968683</td>\n",
       "      <td>3.744257</td>\n",
       "      <td>1.931173</td>\n",
       "      <td>1.472553</td>\n",
       "      <td>0.102181</td>\n",
       "      <td>4.712941</td>\n",
       "      <td>1.954805</td>\n",
       "      <td>1.828992</td>\n",
       "    </tr>\n",
       "    <tr>\n",
       "      <th>3</th>\n",
       "      <td>0.748656</td>\n",
       "      <td>2.741351</td>\n",
       "      <td>1.790573</td>\n",
       "      <td>1.696788</td>\n",
       "      <td>0.464028</td>\n",
       "      <td>3.490008</td>\n",
       "      <td>0.948294</td>\n",
       "      <td>1.326545</td>\n",
       "    </tr>\n",
       "    <tr>\n",
       "      <th>4</th>\n",
       "      <td>0.320502</td>\n",
       "      <td>3.196858</td>\n",
       "      <td>1.050494</td>\n",
       "      <td>2.813036</td>\n",
       "      <td>0.204284</td>\n",
       "      <td>3.517361</td>\n",
       "      <td>1.273237</td>\n",
       "      <td>0.846210</td>\n",
       "    </tr>\n",
       "  </tbody>\n",
       "</table>\n",
       "</div>"
      ],
      "text/plain": [
       "         x1        x2        x3        x4        x5        x6        x7  \\\n",
       "0  0.592109  0.545496  0.199054  2.370339  1.032510  1.137605  1.199802   \n",
       "1  0.911316  1.260952  0.446375  1.564526  0.820080  2.172268  1.441165   \n",
       "2  0.968683  3.744257  1.931173  1.472553  0.102181  4.712941  1.954805   \n",
       "3  0.748656  2.741351  1.790573  1.696788  0.464028  3.490008  0.948294   \n",
       "4  0.320502  3.196858  1.050494  2.813036  0.204284  3.517361  1.273237   \n",
       "\n",
       "         x8  \n",
       "0 -0.833456  \n",
       "1 -0.373705  \n",
       "2  1.828992  \n",
       "3  1.326545  \n",
       "4  0.846210  "
      ]
     },
     "execution_count": 7,
     "metadata": {},
     "output_type": "execute_result"
    }
   ],
   "source": [
    "X.head(5)"
   ]
  },
  {
   "cell_type": "code",
   "execution_count": 8,
   "id": "ec910580",
   "metadata": {},
   "outputs": [
    {
     "data": {
      "text/plain": [
       "(150, 8)"
      ]
     },
     "execution_count": 8,
     "metadata": {},
     "output_type": "execute_result"
    }
   ],
   "source": [
    "X.shape"
   ]
  },
  {
   "cell_type": "markdown",
   "id": "96a91a63",
   "metadata": {},
   "source": [
    "#### X Features contain, 150 rows and 8 columns."
   ]
  },
  {
   "cell_type": "code",
   "execution_count": 9,
   "id": "d3d9ab17",
   "metadata": {},
   "outputs": [
    {
     "data": {
      "text/html": [
       "<div>\n",
       "<style scoped>\n",
       "    .dataframe tbody tr th:only-of-type {\n",
       "        vertical-align: middle;\n",
       "    }\n",
       "\n",
       "    .dataframe tbody tr th {\n",
       "        vertical-align: top;\n",
       "    }\n",
       "\n",
       "    .dataframe thead th {\n",
       "        text-align: right;\n",
       "    }\n",
       "</style>\n",
       "<table border=\"1\" class=\"dataframe\">\n",
       "  <thead>\n",
       "    <tr style=\"text-align: right;\">\n",
       "      <th></th>\n",
       "      <th>x1</th>\n",
       "      <th>x2</th>\n",
       "      <th>x3</th>\n",
       "      <th>x4</th>\n",
       "      <th>x5</th>\n",
       "      <th>x6</th>\n",
       "      <th>x7</th>\n",
       "      <th>x8</th>\n",
       "    </tr>\n",
       "  </thead>\n",
       "  <tbody>\n",
       "    <tr>\n",
       "      <th>count</th>\n",
       "      <td>150.000000</td>\n",
       "      <td>150.000000</td>\n",
       "      <td>150.000000</td>\n",
       "      <td>150.000000</td>\n",
       "      <td>150.000000</td>\n",
       "      <td>150.000000</td>\n",
       "      <td>150.000000</td>\n",
       "      <td>150.000000</td>\n",
       "    </tr>\n",
       "    <tr>\n",
       "      <th>mean</th>\n",
       "      <td>0.526873</td>\n",
       "      <td>2.532959</td>\n",
       "      <td>1.004755</td>\n",
       "      <td>1.437147</td>\n",
       "      <td>0.608091</td>\n",
       "      <td>3.059833</td>\n",
       "      <td>1.005223</td>\n",
       "      <td>0.396664</td>\n",
       "    </tr>\n",
       "    <tr>\n",
       "      <th>std</th>\n",
       "      <td>0.287178</td>\n",
       "      <td>1.366323</td>\n",
       "      <td>0.591567</td>\n",
       "      <td>0.869658</td>\n",
       "      <td>0.365670</td>\n",
       "      <td>1.405730</td>\n",
       "      <td>0.418172</td>\n",
       "      <td>0.666874</td>\n",
       "    </tr>\n",
       "    <tr>\n",
       "      <th>min</th>\n",
       "      <td>0.000789</td>\n",
       "      <td>0.039299</td>\n",
       "      <td>0.022259</td>\n",
       "      <td>0.034008</td>\n",
       "      <td>0.000504</td>\n",
       "      <td>0.324586</td>\n",
       "      <td>0.097891</td>\n",
       "      <td>-1.012279</td>\n",
       "    </tr>\n",
       "    <tr>\n",
       "      <th>25%</th>\n",
       "      <td>0.286739</td>\n",
       "      <td>1.467144</td>\n",
       "      <td>0.484289</td>\n",
       "      <td>0.685930</td>\n",
       "      <td>0.263076</td>\n",
       "      <td>1.988572</td>\n",
       "      <td>0.748112</td>\n",
       "      <td>-0.100801</td>\n",
       "    </tr>\n",
       "    <tr>\n",
       "      <th>50%</th>\n",
       "      <td>0.538521</td>\n",
       "      <td>2.489126</td>\n",
       "      <td>1.025886</td>\n",
       "      <td>1.410161</td>\n",
       "      <td>0.628974</td>\n",
       "      <td>2.985679</td>\n",
       "      <td>0.979791</td>\n",
       "      <td>0.389450</td>\n",
       "    </tr>\n",
       "    <tr>\n",
       "      <th>75%</th>\n",
       "      <td>0.776970</td>\n",
       "      <td>3.650754</td>\n",
       "      <td>1.504459</td>\n",
       "      <td>2.163303</td>\n",
       "      <td>0.920787</td>\n",
       "      <td>4.241689</td>\n",
       "      <td>1.292235</td>\n",
       "      <td>0.892501</td>\n",
       "    </tr>\n",
       "    <tr>\n",
       "      <th>max</th>\n",
       "      <td>0.986514</td>\n",
       "      <td>4.981110</td>\n",
       "      <td>1.976849</td>\n",
       "      <td>2.993408</td>\n",
       "      <td>1.293620</td>\n",
       "      <td>5.960314</td>\n",
       "      <td>1.954805</td>\n",
       "      <td>1.910219</td>\n",
       "    </tr>\n",
       "  </tbody>\n",
       "</table>\n",
       "</div>"
      ],
      "text/plain": [
       "               x1          x2          x3          x4          x5          x6  \\\n",
       "count  150.000000  150.000000  150.000000  150.000000  150.000000  150.000000   \n",
       "mean     0.526873    2.532959    1.004755    1.437147    0.608091    3.059833   \n",
       "std      0.287178    1.366323    0.591567    0.869658    0.365670    1.405730   \n",
       "min      0.000789    0.039299    0.022259    0.034008    0.000504    0.324586   \n",
       "25%      0.286739    1.467144    0.484289    0.685930    0.263076    1.988572   \n",
       "50%      0.538521    2.489126    1.025886    1.410161    0.628974    2.985679   \n",
       "75%      0.776970    3.650754    1.504459    2.163303    0.920787    4.241689   \n",
       "max      0.986514    4.981110    1.976849    2.993408    1.293620    5.960314   \n",
       "\n",
       "               x7          x8  \n",
       "count  150.000000  150.000000  \n",
       "mean     1.005223    0.396664  \n",
       "std      0.418172    0.666874  \n",
       "min      0.097891   -1.012279  \n",
       "25%      0.748112   -0.100801  \n",
       "50%      0.979791    0.389450  \n",
       "75%      1.292235    0.892501  \n",
       "max      1.954805    1.910219  "
      ]
     },
     "execution_count": 9,
     "metadata": {},
     "output_type": "execute_result"
    }
   ],
   "source": [
    "X.describe()"
   ]
  },
  {
   "cell_type": "code",
   "execution_count": 10,
   "id": "668a10fe",
   "metadata": {},
   "outputs": [
    {
     "data": {
      "text/plain": [
       "False"
      ]
     },
     "execution_count": 10,
     "metadata": {},
     "output_type": "execute_result"
    }
   ],
   "source": [
    "# Calculating the mean and standard deviation of each feature\n",
    "means = X.mean()\n",
    "stddev = X.std()\n",
    "\n",
    "# Checking if features in X are standardized\n",
    "tolerance = 1e-6\n",
    "standardized = np.allclose(means, 0, atol=tolerance) and np.allclose(stddev, 1, \n",
    "                                                                     atol=tolerance)\n",
    "\n",
    "# As observed from block 9 and 10, the features are not standardized.\n",
    "\n",
    "standardized"
   ]
  },
  {
   "cell_type": "markdown",
   "id": "6d2301e4",
   "metadata": {},
   "source": [
    "## 2. Training and testing a machine learning pipeline"
   ]
  },
  {
   "cell_type": "code",
   "execution_count": 11,
   "id": "81f8810b",
   "metadata": {},
   "outputs": [],
   "source": [
    "from sklearn.preprocessing import StandardScaler\n",
    "from sklearn.linear_model import LinearRegression, Ridge, Lasso\n",
    "from sklearn.preprocessing import PolynomialFeatures\n",
    "from sklearn.pipeline import Pipeline\n",
    "from sklearn.model_selection import KFold\n",
    "from sklearn.ensemble import RandomForestRegressor\n",
    "from sklearn.model_selection import train_test_split\n",
    "from scipy.stats import randint\n"
   ]
  },
  {
   "cell_type": "code",
   "execution_count": 12,
   "id": "4a123001",
   "metadata": {},
   "outputs": [
    {
     "name": "stdout",
     "output_type": "stream",
     "text": [
      "\n",
      "Mean R2 on train for linear_regression: 0.9942248025852208\n",
      "\n",
      "Mean R2 on test for linear_regression: 0.9388495456072871\n",
      "\n",
      "Average score for linear_regression: 0.9275485461931761\n",
      "\n",
      "Validation scores for linear_regression: [0.928010072554068, 0.890277416315063, 0.9335900687495294, 0.9092142536593047, 0.9224679289236651, 0.9200558172208402, 0.9213520249175855, 0.9350063454112361, 0.8939483028382228, 0.908553237201136]\n",
      "\n",
      "Mean R2 on train for ridge_regression: 0.9891365510082697\n",
      "\n",
      "Mean R2 on test for ridge_regression: 0.953698057264502\n",
      "\n",
      "Average score for ridge_regression: 0.9577416448635763\n",
      "\n",
      "Validation scores for ridge_regression: [0.9609878595409819, 0.9572000295958168, 0.9659421464274639, 0.9600183624331248, 0.9648675423828695, 0.9589017589459066, 0.9638043637029293, 0.9628466141936816, 0.96138804303597, 0.9618956043677619]\n",
      "\n",
      "Mean R2 on train for random_forest: 0.9963995021421933\n",
      "\n",
      "Mean R2 on test for random_forest: 0.9807091685864882\n",
      "\n",
      "Average score for random_forest: 0.9814476433987587\n",
      "\n",
      "Validation scores for random_forest: [0.9693316888184604, 0.9821570744302583, 0.9806680772698758, 0.983900891963495, 0.981578714037945, 0.9860446218893026, 0.9788171543324268, 0.9889839363892318, 0.9860306291546176, 0.9843483938246791]\n",
      "\n",
      "Best model: random_forest\n"
     ]
    }
   ],
   "source": [
    "# Splitting data into tuning and validation sets allows us to estimate \n",
    "# how well a machine learning model will perform on new, \n",
    "# unseen data. This helps with model selection and hyperparameter tuning.\n",
    "X_tuning, X_val, y_tuning, y_val = train_test_split(\n",
    "    X, y, test_size=0.3, random_state=1, shuffle=True)\n",
    "\n",
    "# Splitting data into train-test\n",
    "X_train, X_test, y_train, y_test = train_test_split(\n",
    "    X_tuning, y_tuning, test_size=0.3, random_state=42)\n",
    "\n",
    "# Initializing the k-fold cross-validator\n",
    "kf = KFold(n_splits=10, random_state=42, shuffle=True)\n",
    "\n",
    "# Defining the pipelines for each model OLS, Ridge, Random Forest to provide the best results.\n",
    "# Pipelines use StandardScaler() to standardize feature data, improving model performance \n",
    "# on similar scales. \n",
    "pipelines = {\n",
    "    \"linear_regression\": Pipeline([\n",
    "        ('scaler', StandardScaler()),\n",
    "        ('poly', PolynomialFeatures(2)),\n",
    "        ('lm', LinearRegression())\n",
    "    ]),\n",
    "    \"ridge_regression\": Pipeline([\n",
    "        ('scaler', StandardScaler()),\n",
    "        ('poly', PolynomialFeatures(2)),\n",
    "        ('ridge', Ridge(alpha=1))\n",
    "    ]),\n",
    "    \"random_forest\": Pipeline([\n",
    "        ('scaler', StandardScaler()),\n",
    "        ('poly', PolynomialFeatures(2)),\n",
    "        ('rf', RandomForestRegressor(n_estimators=100, random_state=40, max_depth=5))\n",
    "    ])\n",
    "}\n",
    "\n",
    "# K-fold cross-validation to assess model performance to detect \n",
    "# overfitting/underfitting, and helps choosing the best model.\n",
    "R2_train = {}\n",
    "R2_test = {}\n",
    "validation_scores = {}\n",
    "average_scores = {}\n",
    "\n",
    "for name, pipeline in pipelines.items():\n",
    "    R2_train_scores = []\n",
    "    R2_test_scores = []\n",
    "    validation_scores[name] = []\n",
    "    for train_index, test_index in kf.split(X_train):\n",
    "        X_train_kf, X_test_kf = X_train.iloc[train_index], X_train.iloc[test_index]\n",
    "        y_train_kf, y_test_kf = y_train.iloc[train_index], y_train.iloc[test_index]\n",
    "\n",
    "        pipeline.fit(X_train_kf, y_train_kf.ravel())\n",
    "        \n",
    "        R2_train_scores.append(pipeline.score(X_train_kf, y_train_kf))\n",
    "        R2_test_scores.append(pipeline.score(X_test_kf, y_test_kf))\n",
    "        validation_score = pipeline.score(X_val, y_val)\n",
    "        validation_scores[name].append(validation_score)\n",
    "                \n",
    "    R2_train[name] = np.mean(R2_train_scores)\n",
    "    R2_test[name] = np.mean(R2_test_scores)\n",
    "    average_scores[name] = (R2_test[name] + np.mean(validation_scores[name])) / 2\n",
    "    print(f\"\\nMean R2 on train for {name}: {R2_train[name]}\")\n",
    "    print(f\"\\nMean R2 on test for {name}: {R2_test[name]}\")\n",
    "    print(f\"\\nAverage score for {name}: {average_scores[name]}\")\n",
    "    print(f\"\\nValidation scores for {name}: {validation_scores[name]}\")\n",
    "    \n",
    "# The best model is chosen with the maximum average score of Validation \n",
    "# and R2 among all models\n",
    "best_model_name = max(average_scores, key=average_scores.get)\n",
    "best_model_pipeline = pipelines[best_model_name]\n",
    "print(f\"\\nBest model: {best_model_name}\")"
   ]
  },
  {
   "cell_type": "markdown",
   "id": "00bfd795",
   "metadata": {},
   "source": [
    "#### Result Interpretation:\n",
    "- R2 and Validation score for Random Forest yilds the highest results.\n",
    "- Hghest Average Results calculated (R2 + Validation)/2 allows us to choose the best model further on.\n",
    "\n",
    "#### Overfitting & Underfitting:\n",
    "- Difference between R2 test and train for Randomforest suggest that the model fits well.\n",
    "- Further observing the data with 150 observations and 8 features, overfitting can least likely be expected\n",
    "- The model shows slight overfitting, with high R2 scores for both train (0.9964) and test (0.9807) sets.\n",
    "- As untuned data also utilizes cross validation, hyper parameter tuning will be introduced further."
   ]
  },
  {
   "cell_type": "code",
   "execution_count": 13,
   "id": "211968bb",
   "metadata": {},
   "outputs": [
    {
     "name": "stdout",
     "output_type": "stream",
     "text": [
      "Random Forest MSE: 0.6602\n",
      "Baseline error: 376.7447\n",
      "Improvement % over the baseline model: 99.82%\n"
     ]
    }
   ],
   "source": [
    "from sklearn.metrics import mean_squared_error\n",
    "\n",
    "# Training the tuned random forest regressor on the entire training set\n",
    "rf = pipelines[\"random_forest\"][\"rf\"]\n",
    "rf.fit(X_train, y_train.ravel())\n",
    "\n",
    "# Prediction on the test set\n",
    "y_pred = rf.predict(X_test)\n",
    "\n",
    "# Finding the MSE of random forest regressor\n",
    "rf_mse = mean_squared_error(y_test, y_pred)\n",
    "\n",
    "# Calculating the baseline error which is the mean the target variable\n",
    "baseline_error = mean_squared_error(y_test, [y_test.mean()] * len(y_test))\n",
    "\n",
    "# Finding the improvement percentage of the random forest regressor over the baseline \n",
    "# error results\n",
    "improvement = (baseline_error - rf_mse) / baseline_error * 100\n",
    "\n",
    "print(f\"Random Forest MSE: {rf_mse:.4f}\")\n",
    "print(f\"Baseline error: {baseline_error:.4f}\")\n",
    "print(f\"Improvement % over the baseline model: {improvement:.2f}%\")"
   ]
  },
  {
   "cell_type": "markdown",
   "id": "403bacde",
   "metadata": {},
   "source": [
    "#### Comparing the baseline model with RF model to determine its effectivenes:\n",
    "- The block of code calculates the MSE for both Randomforest and Baseline model\n",
    "- MSE of RF = 0.6602 and MSE of Baseline Error = 376.7447 (Lower value is better)\n",
    "- The RF model improves by 99.82% over the baseline model."
   ]
  },
  {
   "cell_type": "markdown",
   "id": "53e68ede",
   "metadata": {},
   "source": [
    "## 3. Tuning the proposed machine learning pipeline"
   ]
  },
  {
   "cell_type": "code",
   "execution_count": 14,
   "id": "f264eda6",
   "metadata": {},
   "outputs": [
    {
     "data": {
      "text/plain": [
       "(150, 8)"
      ]
     },
     "execution_count": 14,
     "metadata": {},
     "output_type": "execute_result"
    }
   ],
   "source": [
    "X.shape"
   ]
  },
  {
   "cell_type": "markdown",
   "id": "4add02eb",
   "metadata": {},
   "source": [
    "#### Final Feature Space, High or Low Dimensional?\n",
    "- 150 Observations and 8 features suggests the dataset as low dimensional as Observations > Features\n",
    "- With degree-2 polynomial transformation 45 new features are created, which also suggests Observations > Features\n",
    "- All the factors lead to the Final Feature Space being <b><i>Low Dimensional</i></b>"
   ]
  },
  {
   "cell_type": "markdown",
   "id": "b50dca23",
   "metadata": {},
   "source": [
    "### Tuning our model"
   ]
  },
  {
   "cell_type": "markdown",
   "id": "c545378a",
   "metadata": {},
   "source": [
    "As seen from results in out untuned model it performs well. But further tuning can be done on Random Forest Regressor to achieve a better performing model."
   ]
  },
  {
   "cell_type": "code",
   "execution_count": 15,
   "id": "103b3aae",
   "metadata": {},
   "outputs": [
    {
     "name": "stdout",
     "output_type": "stream",
     "text": [
      "Fitting 10 folds for each of 50 candidates, totalling 500 fits\n",
      "Best parameters: {'rf__max_depth': 8, 'rf__max_features': 'auto', 'rf__min_samples_leaf': 3, 'rf__min_samples_split': 5, 'rf__n_estimators': 153}\n"
     ]
    }
   ],
   "source": [
    "# Using RandomizedSearchCV to find the best hyper parameters to tune the RF model.\n",
    "from sklearn.model_selection import RandomizedSearchCV\n",
    "\n",
    "# Model has been split into train and test, k-fold, validation set to be tuned.\n",
    "# Splitting data into tuning and validation sets allows us to estimate how well \n",
    "# a machine learning model will perform on new, unseen data.\n",
    "# This helps with model selection and hyperparameter tuning.\n",
    "X_tuning, X_val, y_tuning, y_val = train_test_split(\n",
    "    X, y, test_size=0.3, random_state=1, shuffle=True)\n",
    "\n",
    "# Splitting data into train-test\n",
    "X_train, X_test, y_train, y_test = train_test_split(\n",
    "    X_tuning, y_tuning, test_size=0.3, random_state=42)\n",
    "\n",
    "# Initializing the k-fold cross-validator\n",
    "kf = KFold(n_splits=10, random_state=42, shuffle=True)\n",
    "\n",
    "# Defining the pipeline for the tuned Random Forest model\n",
    "tuned_rf_pipeline = Pipeline([\n",
    "    ('scaler', StandardScaler()),\n",
    "    ('poly', PolynomialFeatures(2)),\n",
    "    ('rf', RandomForestRegressor(random_state=40))\n",
    "])\n",
    "\n",
    "# Defining the parameter grid for RandomizedSearchCV to tune the data\n",
    "param_dist = {\n",
    "    'rf__n_estimators': randint(50, 300),\n",
    "    'rf__max_depth': randint(1, 10),\n",
    "    'rf__min_samples_split': randint(2, 10),\n",
    "    'rf__min_samples_leaf': randint(1, 10),\n",
    "    'rf__max_features': ['auto', 'sqrt', 'log2']\n",
    "}\n",
    "\n",
    "# Initializing RandomizedSearchCV with the tuned_rf_pipeline, parameter grid, \n",
    "# and KFold cross-validator\n",
    "random_search = RandomizedSearchCV(tuned_rf_pipeline, param_distributions=param_dist, \n",
    "                                   n_iter=50, cv=kf, scoring='r2', \n",
    "                                   n_jobs=-1, random_state=42, verbose=1)\n",
    "\n",
    "# Fitting RandomizedSearchCV to the training data\n",
    "random_search.fit(X_train, y_train.ravel())\n",
    "\n",
    "# Extracting the best parameters\n",
    "best_params = random_search.best_params_\n",
    "print(f\"Best parameters: {best_params}\")\n",
    "\n",
    "# Updating the tuned_rf_pipeline with the best parameters\n",
    "tuned_rf_pipeline.set_params(**best_params)\n",
    "\n",
    "# Validating our model using K-Fold cross-validation.\n",
    "# Evaluating the performance of the tuned model using KFold cross-validation\n",
    "validation_scores = []\n",
    "for train_index, val_index in kf.split(X_tuning):\n",
    "    X_train_kf, X_val_kf = X_tuning.iloc[train_index], X_tuning.iloc[val_index]\n",
    "    y_train_kf, y_val_kf = y_tuning.iloc[train_index], y_tuning.iloc[val_index]\n",
    "\n",
    "    tuned_rf_pipeline.fit(X_train_kf, y_train_kf.ravel())\n",
    "    validation_score = tuned_rf_pipeline.score(X_val_kf, y_val_kf)\n",
    "    validation_scores.append(validation_score)\n",
    "\n",
    "# Calculating the average validation score\n",
    "average_validation_score = np.mean(validation_scores)\n",
    "\n",
    "# Analyze the validation_scores and average_validation_score to determine \n",
    "# the model's stability\n",
    "\n",
    "# Fitting the tuned_rf_pipeline to the training data\n",
    "tuned_rf_pipeline.fit(X_train, y_train.ravel())\n",
    "\n",
    "# Evaluating the performance of the tuned model on the training and test sets\n",
    "tuned_rf_train_score = tuned_rf_pipeline.score(X_train, y_train)\n",
    "tuned_rf_test_score = tuned_rf_pipeline.score(X_test, y_test)\n"
   ]
  },
  {
   "cell_type": "markdown",
   "id": "5e6fc4da",
   "metadata": {},
   "source": [
    "##### Hyperparameters:\n",
    "- n_estimators: Controls the complexity and capacity to capture patterns.\n",
    "- max_depth: Determines tree depth as it captures complex patterns.\n",
    "- min_samples_split: Limits tree growth by requiring a minimum number of samples to split.\n",
    "- min_samples_leaf: Sets a minimum number of samples at leaf nodes to prevent overfitting.\n",
    "- max_features: Controls randomness in tree splits and helps with generalization."
   ]
  },
  {
   "cell_type": "code",
   "execution_count": 16,
   "id": "10df5abc",
   "metadata": {},
   "outputs": [
    {
     "name": "stdout",
     "output_type": "stream",
     "text": [
      "Comparing the Accuracy Tuned RF vs Untuned Rf\n",
      "\n",
      "Tuned Random Forest R2 train score: 0.9926911378683124\n",
      "Tuned Random Forest R2 test score: 0.996342016036008\n",
      "Tuned Random Forest average validation score: 0.9909541600352914\n",
      "\n",
      "Untuned Random Forest R2 train score: 0.9963995021421933\n",
      "Untuned Random Forest R2 test score: 0.9807091685864882\n",
      "Tuned Random Forest average validation score: 0.9814476433987587\n"
     ]
    }
   ],
   "source": [
    "print('Comparing the Accuracy Tuned RF vs Untuned Rf')\n",
    "\n",
    "print(f\"\\nTuned Random Forest R2 train score: {tuned_rf_train_score}\")\n",
    "print(f\"Tuned Random Forest R2 test score: {tuned_rf_test_score}\")\n",
    "print(f\"Tuned Random Forest average validation score: {average_validation_score}\")\n",
    "\n",
    "print(f\"\\nUntuned Random Forest R2 train score: {R2_train[name]}\")\n",
    "print(f\"Untuned Random Forest R2 test score: {R2_test[name]}\")\n",
    "print(f\"Tuned Random Forest average validation score: {average_scores[name]}\")"
   ]
  },
  {
   "cell_type": "markdown",
   "id": "445732a1",
   "metadata": {},
   "source": [
    "<b> Stability of Findings (Validation Score) </b><br>\n",
    "Tuned vs Untuned Model <br>\n",
    "The tuned model has an R2 train score of 0.9927, R2 test score of 0.9963, and an average validation score of 0.9910. The untuned model has an R2 train score of 0.9964, R2 test score of 0.9807, and an average validation score of 0.9814. The tuned model's performance is consistent across training, test, and validation sets, with only a small difference between the scores. This indicates that the tuned model generalizes well and does not overfit or underfit."
   ]
  },
  {
   "cell_type": "code",
   "execution_count": 17,
   "id": "ceaadb8a",
   "metadata": {},
   "outputs": [
    {
     "data": {
      "image/png": "[encoded data removed]",
      "text/plain": [
       "<Figure size 640x480 with 1 Axes>"
      ]
     },
     "metadata": {},
     "output_type": "display_data"
    }
   ],
   "source": [
    "from sklearn.model_selection import learning_curve\n",
    "\n",
    "def plot_learning_curve(estimator, title, X, y, cv=None, \n",
    "                        n_jobs=-1, train_sizes=np.linspace(0.1, 1.0, 5)):\n",
    "    plt.figure()\n",
    "    plt.title(title)\n",
    "    plt.xlabel(\"Training examples\")\n",
    "    plt.ylabel(\"Score\")\n",
    "\n",
    "    train_sizes, train_scores, test_scores = learning_curve(\n",
    "        estimator, X, y, cv=cv, n_jobs=n_jobs, train_sizes=train_sizes)\n",
    "\n",
    "    train_scores_mean = np.mean(train_scores, axis=1)\n",
    "    train_scores_std = np.std(train_scores, axis=1)\n",
    "    test_scores_mean = np.mean(test_scores, axis=1)\n",
    "    test_scores_std = np.std(test_scores, axis=1)\n",
    "\n",
    "    plt.grid()\n",
    "    plt.fill_between(train_sizes, train_scores_mean - train_scores_std, \n",
    "                     train_scores_mean+train_scores_std, alpha=0.1,color=\"r\")\n",
    "    plt.fill_between(train_sizes, test_scores_mean - \n",
    "                     test_scores_std, test_scores_mean + test_scores_std, alpha=0.1, \n",
    "                     color=\"g\")\n",
    "    plt.plot(train_sizes, train_scores_mean, 'o-', color=\"r\", \n",
    "             label=\"Training score\")\n",
    "    plt.plot(train_sizes, test_scores_mean, 'o-', color=\"g\", \n",
    "             label=\"Cross-validation score\")\n",
    "\n",
    "    plt.legend(loc=\"best\")\n",
    "    plt.show()\n",
    "\n",
    "# Plotting the learning curve for the tuned_rf_pipeline\n",
    "plot_learning_curve(tuned_rf_pipeline, \"Tuned Random Forest Learning Curve\", \n",
    "                    X_tuning, y_tuning, cv=kf)\n"
   ]
  },
  {
   "cell_type": "markdown",
   "id": "813bb9b6",
   "metadata": {},
   "source": [
    "- Both the training and validation scores are converging to a high value, it indicates that the model is generalizing well.\n",
    "- The gap between the training and validation scores is small, it indicates that the model has a good balance between bias and variance.\n",
    "- The validation score is increasing as the training size increases meaning if more training data is added the performance of the model will be improved.\n",
    "- The model performs well on both the training and validation sets, and there's a small gap between the two. As observed in the learning curve, both the training and validation scores are high and converge at a high score. This indicates that the model is generalizing well and not suffering from high bias or high variance leading to the best bias variance tradeoff."
   ]
  },
  {
   "cell_type": "markdown",
   "id": "f9f319fa",
   "metadata": {},
   "source": [
    "## 4. Model Interpretation"
   ]
  },
  {
   "cell_type": "markdown",
   "id": "98f6f295",
   "metadata": {},
   "source": [
    "In terms of interpretability, this pipeline may not be easily understandable by a person without some technical knowledge of machine learning and data science concepts. However, a person with knowledge and experience in these fields should be able to understand the pipeline and the purpose of each step in the process. As though, the pipeline implemented checks the best machine learning model and then provides the results."
   ]
  },
  {
   "cell_type": "markdown",
   "id": "c19d13e2",
   "metadata": {},
   "source": [
    "The inferred function f(x1, ..., xm) + e is a Random Forest Regressor model that has been optimized using RandomizedSearchCV and KFold cross-validation. The model aims to predict a target variable y based on m input features, and its performance has been assessed using various metrics and techniques, such as training and test set scores and KFold cross-validation."
   ]
  },
  {
   "cell_type": "markdown",
   "id": "3fdf4a96",
   "metadata": {},
   "source": [
    "#### Multicollinearity"
   ]
  },
  {
   "cell_type": "code",
   "execution_count": 18,
   "id": "70b9b45c",
   "metadata": {},
   "outputs": [
    {
     "name": "stdout",
     "output_type": "stream",
     "text": [
      "  features    VIF Factor\n",
      "0       x1  5.629500e+14\n",
      "1       x2  8.188363e+14\n",
      "2       x3  1.422938e+13\n",
      "3       x4  3.404517e+00\n",
      "4       x5  4.415294e+13\n",
      "5       x6  6.433714e+14\n",
      "6       x7  1.208367e+01\n",
      "7       x8  1.958087e+14\n"
     ]
    }
   ],
   "source": [
    "from statsmodels.stats.outliers_influence import variance_inflation_factor\n",
    "\n",
    "# Creating a dataframe for VIF\n",
    "vif = pd.DataFrame()\n",
    "\n",
    "# Adding feature names to the dataframe\n",
    "vif[\"features\"] = X_train.columns\n",
    "\n",
    "# Calculating VIF for each feature\n",
    "vif[\"VIF Factor\"] = [variance_inflation_factor(\n",
    "    X_train.values, i) for i in range(X_train.shape[1])]\n",
    "\n",
    "print(vif)"
   ]
  },
  {
   "cell_type": "code",
   "execution_count": 19,
   "id": "77d129e1",
   "metadata": {},
   "outputs": [
    {
     "data": {
      "image/png": "[encoded data removed]",
      "text/plain": [
       "<Figure size 400x200 with 1 Axes>"
      ]
     },
     "metadata": {},
     "output_type": "display_data"
    }
   ],
   "source": [
    "# Defining the feature names and the VIF factor rating\n",
    "features = ['x1', 'x2', 'x3', 'x4', 'x5', 'x6', 'x7', 'x8']\n",
    "vif_factors = [5.629500e+14, 8.188363e+14, 1.422938e+13, 3.404517e+00,\n",
    "               4.415294e+13, 6.433714e+14, 1.208367e+01, 1.958087e+14]\n",
    "\n",
    "# Creating a dataframe to store the data and sorting it in descending order\n",
    "df = pd.DataFrame({'features': features, 'VIF Factor': vif_factors})\n",
    "df = df.sort_values('VIF Factor', ascending=True)\n",
    "\n",
    "# Creating the bar graph to represent all the values as visuals\n",
    "fig, ax = plt.subplots(figsize=(4,2))\n",
    "ax.barh(df['features'], df['VIF Factor'])\n",
    "ax.set_xlabel('VIF Factor')\n",
    "ax.set_title('Multicollinearity - VIF Factors')\n",
    "plt.show()\n"
   ]
  },
  {
   "cell_type": "markdown",
   "id": "0baa3e35",
   "metadata": {},
   "source": [
    "The VIF values for x1, x2, x5, x6, and x8 are all greater than 10, which is a standard threshold for detecting multicollinearity. This indicates that these variables are highly correlated with one or more of the other variables in the dataset, which might make interpreting the regression model coefficients challenging and lead to unstable findings."
   ]
  },
  {
   "cell_type": "markdown",
   "id": "f9f5aed8",
   "metadata": {},
   "source": [
    "#### Feature Importance"
   ]
  },
  {
   "cell_type": "code",
   "execution_count": 20,
   "id": "378fb167",
   "metadata": {},
   "outputs": [
    {
     "name": "stdout",
     "output_type": "stream",
     "text": [
      "1. x4: 0.9885867727517486\n",
      "2. x8: 0.0021833053083563734\n",
      "3. x2: 0.0021213270930479002\n",
      "4. x7: 0.0017952993760007583\n",
      "5. x1: 0.0017092644854216352\n",
      "6. x5: 0.001664501109391429\n",
      "7. x3: 0.0011417286684971646\n",
      "8. x6: 0.0007978012075361383\n"
     ]
    }
   ],
   "source": [
    "# Training the tuned Random Forest Regressor model on the data\n",
    "rf = best_model_pipeline.named_steps['rf']\n",
    "rf.fit(X_train, y_train)\n",
    "\n",
    "# Finding the important features\n",
    "important_feat = rf.feature_importances_\n",
    "\n",
    "# Printing the important features in descending order to get features \n",
    "# from highest to lowest\n",
    "indices = np.argsort(important_feat)[::-1]\n",
    "for f in range(X_train.shape[1]):\n",
    "    print(f\"{f + 1}. {X_train.columns[indices[f]]}: {important_feat[indices[f]]}\")"
   ]
  },
  {
   "cell_type": "code",
   "execution_count": 21,
   "id": "d3454392",
   "metadata": {},
   "outputs": [
    {
     "data": {
      "image/png": "[encoded data removed]",
      "text/plain": [
       "<Figure size 400x200 with 1 Axes>"
      ]
     },
     "metadata": {},
     "output_type": "display_data"
    }
   ],
   "source": [
    "# Defining the feature names and importances\n",
    "features = ['x4', 'x5', 'x2', 'x8', 'x1', 'x7', 'x3', 'x6']\n",
    "importances = [0.9880397740468944, 0.002463035156609637, 0.0024049118865345025, \n",
    "               0.0020493153295407995, 0.0017999567161051896, 0.0012254899929912064, \n",
    "               0.001145890656660792, 0.0008716262146634514]\n",
    "\n",
    "# Plotting the bar graph for feature data\n",
    "fig, ax = plt.subplots(figsize=(4, 2))\n",
    "ax.barh(np.arange(len(features)), importances, align='center')\n",
    "ax.set_yticks(np.arange(len(features)))\n",
    "ax.set_yticklabels(features)\n",
    "ax.set_xlabel('Importance')\n",
    "ax.set_title('Feature Importances')\n",
    "plt.show()\n"
   ]
  },
  {
   "cell_type": "markdown",
   "id": "a4d602e6",
   "metadata": {},
   "source": [
    "With a significance value of 0.988, the feature most responsible for generating the final predictions is x4. This implies that, when compared to the other features in the model, x4 has the strongest connection with the target variable."
   ]
  },
  {
   "cell_type": "markdown",
   "id": "f1799d34",
   "metadata": {},
   "source": [
    "## 5. Discussion: pros/cons and time complexity of the designed pipeline"
   ]
  },
  {
   "cell_type": "markdown",
   "id": "ee7061f6",
   "metadata": {},
   "source": [
    "#### Pipeline Summary\n",
    "The code implements a pipeline for comparing three different regression models: Linear Regression, Ridge Regression, and Random Forest Regression. The data is first split into tuning, validation, and test sets. Then K-Fold cross-validation strategy is used to assess the performance of each model on the training data. Pipelines are also defined for each model, including a standardization step with StandardScaler and feature transformation with PolynomialFeatures. The models are trained and evaluated, providing R2 scores for both training and test sets. The average score is calculated as the mean of the test and validation scores. Finally, the model with the highest average score is selected as the best model."
   ]
  },
  {
   "cell_type": "markdown",
   "id": "b0e07b87",
   "metadata": {},
   "source": [
    "#### Time Complexity<br>\n",
    "1) train_test_split simply splits the data into training and testing subsets and has complexity of O(n), where n is the number of samples.<br>\n",
    "2) K-fold cross-validation has time complexity of O(k*n), where k is the number of folds and n is the number of samples.\n",
    "3) All pipelines transform the data and applies a machine learning model on it. The temporal complexity of fitting a model is determined by the algorithm employed. Linear Regression has a time complexity of O(n3), Ridge Regression has a time complexity of O(mnlog(n)), and Random Forest has a time complexity of O(mnlog(n)), where m is the number of trees and n is the number of samples.<br>\n",
    "4) The time complexity of RandomizedSearchCV can be expressed as O(p * c * T), where p is the number of iterations (50 in this case), c is the number of cross-validation folds (10 in this case), and T is the time complexity of training a single Random Forest model.<br>\n",
    "5) The loop of cross-validation is repeated k times, where k is the number of folds. It fits the pipeline on the training data, predicts on the testing data, and computes the R2 score for each iteration. As a result, its time complexity is O(kn(fitting_time+prediction_time)), where fitting_time and prediction_time are algorithm-dependent.<br>\n",
    "\n",
    "function k_fold_cross_validation(data, k, model):\n",
    "    scores = [  ]\n",
    "\n",
    "    for i in range(k):\n",
    "        train_data, val_data = split_data(data, k, i)\n",
    "        model.fit(train_data)\n",
    "        score = model.evaluate(val_data)\n",
    "        scores.append(score)\n",
    "\n",
    "    avg_score = average(scores)\n",
    "    return avg_score\n",
    "\n",
    "- <b>Strengths</b> <br>\n",
    "K-fold cross-validation strength is that it provides a more reliable estimate of the model's performance than a single train-test split. This is because K-fold cross-validation uses multiple train-test splits and averages the results and reduces bias variance. \n",
    "- <b>Limitations</b> <br>\n",
    "K-fold cross-validation is that it can be computationally expensive, especially when the dataset is large or the number of folds is high.\n",
    "- <b>Imporvements</b> <br>\n",
    "Using Nested cross-validation as it involves using K-fold cross-validation to tune the model's hyperparameters and another K-fold cross-validation to evaluate the model's performance. This can help to reduce the bias of the performance estimate and provide a more accurate estimate of the model's true performance."
   ]
  },
  {
   "cell_type": "code",
   "execution_count": null,
   "id": "4e16b677",
   "metadata": {},
   "outputs": [],
   "source": []
  }
 ],
 "metadata": {
  "kernelspec": {
   "display_name": "Python 3 (ipykernel)",
   "language": "python",
   "name": "python3"
  },
  "language_info": {
   "codemirror_mode": {
    "name": "ipython",
    "version": 3
   },
   "file_extension": ".py",
   "mimetype": "text/x-python",
   "name": "python",
   "nbconvert_exporter": "python",
   "pygments_lexer": "ipython3",
   "version": "3.10.9"
  }
 },
 "nbformat": 4,
 "nbformat_minor": 5
}
